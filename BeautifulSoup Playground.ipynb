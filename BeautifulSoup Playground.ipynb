{
 "cells": [
  {
   "cell_type": "markdown",
   "id": "33fa5ae1",
   "metadata": {},
   "source": [
    "### Extract SQCF level from: http://www.drps.ed.ac.uk/21-22/dpt/cxcmse11427.htm"
   ]
  },
  {
   "cell_type": "code",
   "execution_count": null,
   "id": "9f65ecb1",
   "metadata": {
    "scrolled": true
   },
   "outputs": [],
   "source": [
    "#!pip install bs4\n",
    "from urllib.request import urlopen\n",
    "import os\n",
    "from bs4 import BeautifulSoup"
   ]
  },
  {
   "cell_type": "code",
   "execution_count": null,
   "id": "02d2f136",
   "metadata": {},
   "outputs": [],
   "source": [
    "page = 'http://www.drps.ed.ac.uk/21-22/dpt/cxcmse11427.htm'\n",
    "website = urlopen(page)\n",
    "content = BeautifulSoup(website, 'html.parser')\n",
    "\n",
    "# Retrieve the cell that contains 'SCQF Level'\n",
    "def getSCQF(html):\n",
    "    my_table = html.find_all('table')[3]\n",
    "    row = my_table.find_all('tr')[1]\n",
    "    cell = row.find_all('td')[1]\n",
    "    print(cell.text)"
   ]
  },
  {
   "cell_type": "code",
   "execution_count": null,
   "id": "e0a36ca8",
   "metadata": {},
   "outputs": [],
   "source": [
    "getSCQF(content)"
   ]
  },
  {
   "cell_type": "markdown",
   "id": "14e16cb5",
   "metadata": {},
   "source": [
    "### Retrieve all scores and reviews from iPhone 12 reviews on carphonewarehouse.com"
   ]
  },
  {
   "cell_type": "code",
   "execution_count": 3,
   "id": "378d951c",
   "metadata": {
    "scrolled": true
   },
   "outputs": [],
   "source": [
    "#!pip install selenium\n",
    "import time\n",
    "from bs4 import BeautifulSoup\n",
    "from selenium import webdriver\n",
    "from selenium.common.exceptions import NoSuchElementException\n",
    "from selenium.webdriver.common.keys import Keys\n",
    "from selenium.webdriver.common.by import By\n",
    "import sys"
   ]
  },
  {
   "cell_type": "code",
   "execution_count": 2,
   "id": "48c573e3",
   "metadata": {},
   "outputs": [],
   "source": [
    "def get_a_browser():\n",
    "    if sys.platform.startswith('win32') or sys.platform.startswith('cygwin'):\n",
    "        return webdriver.Chrome() # windows\n",
    "    else:\n",
    "        return webdriver.Chrome('./chromedriver') # mac"
   ]
  },
  {
   "cell_type": "code",
   "execution_count": 4,
   "id": "76729b67",
   "metadata": {},
   "outputs": [
    {
     "name": "stderr",
     "output_type": "stream",
     "text": [
      "/var/folders/jq/96z3l_5s3pggbfxqc6dnldbm0000gn/T/ipykernel_36883/702838454.py:7: DeprecationWarning: executable_path has been deprecated, please pass in a Service object\n",
      "  return webdriver.Chrome('./chromedriver') # mac\n"
     ]
    },
    {
     "name": "stdout",
     "output_type": "stream",
     "text": [
      "<selenium.webdriver.remote.webelement.WebElement (session=\"1d7247d846fac52dec95c8a9c256bead\", element=\"5b54f7d9-91e5-4bb8-83c9-64018c18cc43\")>\n",
      "Review Title:     Excellent phone   \n",
      "Review Title:     Not as Clever   \n",
      "Review Title:     good phone   \n",
      "Review Title:     Wheres the plug!!!   \n",
      "\n",
      "Page:  1\n",
      "Review Title:     Easy to hold   \n",
      "Review Title:     Nice Phone   \n",
      "\n",
      "Page:  2\n"
     ]
    }
   ],
   "source": [
    "browser = get_a_browser()\n",
    "url = u'https://www.carphonewarehouse.com/apple/iphone-12.html#!colour=red&capacity=64GB&dealType=pm'\n",
    "browser.get(url)\n",
    "\n",
    "# wait to let the page load everything\n",
    "time.sleep(1)\n",
    "body = browser.find_element(By.TAG_NAME,'body')\n",
    "accept_cookies = browser.find_element(By.ID,\"onetrust-accept-btn-handler\")\n",
    "#print(accept_cookies)\n",
    "accept_cookies.click();\n",
    "time.sleep(1)\n",
    "\n",
    "#Scroll down and click to view all reviews\n",
    "body.send_keys(Keys.PAGE_DOWN)\n",
    "body.send_keys(Keys.PAGE_DOWN)\n",
    "time.sleep(1)\n",
    "browser.find_element(By.LINK_TEXT,\"View all reviews\").click();\n",
    "#Scroll down further to see all reviews\n",
    "body.send_keys(Keys.PAGE_DOWN)\n",
    "# let everything load\n",
    "time.sleep(2)\n",
    "\n",
    "\n",
    "def find_review_titles_in_source(html_source):\n",
    "    # see beautifulsoup\n",
    "    soup = BeautifulSoup(html_source, 'html.parser')\n",
    "    # find all the elements of class pros and print them\n",
    "    titles = soup.find_all('h3', attrs={'class': 'bv-content-title'})\n",
    "    for title in titles[2:]:\n",
    "        print(\"Review Title: \"+title.text)  \n",
    "\n",
    "find_review_titles_in_source(browser.page_source) \n",
    "\n",
    "def loop_review_pages():\n",
    "# loop the following 10 times\n",
    "    for which_page in range(10):\n",
    "        print('\\nPage: ', which_page+1)\n",
    "        try:\n",
    "            next_button = browser.find_element(By.CSS_SELECTOR, '.bv-content-btn.bv-content-btn-pages.bv-content-btn-pages-last.bv-focusable.bv-content-btn-pages-active')\n",
    "            next_button.click()\n",
    "        except NoSuchElementException:\n",
    "            break\n",
    "        time.sleep(1)\n",
    "        find_review_titles_in_source(browser.page_source)    \n",
    "        \n",
    "loop_review_pages()"
   ]
  }
 ],
 "metadata": {
  "kernelspec": {
   "display_name": "Python 3 (ipykernel)",
   "language": "python",
   "name": "python3"
  },
  "language_info": {
   "codemirror_mode": {
    "name": "ipython",
    "version": 3
   },
   "file_extension": ".py",
   "mimetype": "text/x-python",
   "name": "python",
   "nbconvert_exporter": "python",
   "pygments_lexer": "ipython3",
   "version": "3.9.7"
  }
 },
 "nbformat": 4,
 "nbformat_minor": 5
}
